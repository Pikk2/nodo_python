{
 "cells": [
  {
   "cell_type": "code",
   "execution_count": null,
   "metadata": {},
   "outputs": [],
   "source": [
    "exposure = 1000\n",
    "gain = 20\n",
    "\n",
    "\n",
    "expH = exposure >> 8\n",
    "expL = exposure & 0xFF\n",
    "\n",
    "print(expH)\n",
    "print(expL)"
   ]
  }
 ],
 "metadata": {
  "language_info": {
   "name": "python"
  },
  "orig_nbformat": 4
 },
 "nbformat": 4,
 "nbformat_minor": 2
}
