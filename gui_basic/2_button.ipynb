{
 "cells": [
  {
   "cell_type": "code",
   "execution_count": 3,
   "metadata": {},
   "outputs": [
    {
     "name": "stdout",
     "output_type": "stream",
     "text": [
      "버튼이 클릭됨\n",
      "버튼이 클릭됨\n",
      "버튼이 클릭됨\n",
      "버튼이 클릭됨\n",
      "버튼이 클릭됨\n"
     ]
    }
   ],
   "source": [
    "from tkinter import *\n",
    "\n",
    "root = Tk()\n",
    "root.title(\"Nado GUI\")\n",
    "root.geometry(\"480x360+1050+400\") # 가로 x 세로\n",
    "\n",
    "# //////////////////////////////////////////\n",
    "btn1 = Button(root, text=\"Button1\")\n",
    "btn1.pack()\n",
    "\n",
    "btn2 = Button(root, padx=5, pady=10, text=\"Button2\")\n",
    "btn2.pack()\n",
    "\n",
    "btn3 = Button(root, padx=10, pady=5, text=\"Button3\")\n",
    "btn3.pack()\n",
    "\n",
    "btn4 = Button(root, width=10, height=3, text=\"Button4\")\n",
    "btn4.pack()\n",
    "\n",
    "btn5 = Button(root, fg=\"red\", bg=\"yellow\", text=\"Button5\")\n",
    "btn5.pack()\n",
    "\n",
    "# photo = PhotoImage(file=\"C://nado_python//nodo_python-1//gui_basic//irene_20x20.png\")\n",
    "# btn6 = Button(root, image=photo)\n",
    "# btn6.pack()\n",
    "\n",
    "def btncmd():\n",
    "    print(\"버튼이 클릭됨\")\n",
    "\n",
    "btn7 = Button(root, text=\"동작하는 버튼\", command=btncmd)\n",
    "btn7.pack()\n",
    "\n",
    "root.mainloop()"
   ]
  }
 ],
 "metadata": {
  "kernelspec": {
   "display_name": "Python 3.11.3 64-bit",
   "language": "python",
   "name": "python3"
  },
  "language_info": {
   "codemirror_mode": {
    "name": "ipython",
    "version": 3
   },
   "file_extension": ".py",
   "mimetype": "text/x-python",
   "name": "python",
   "nbconvert_exporter": "python",
   "pygments_lexer": "ipython3",
   "version": "3.11.3"
  },
  "orig_nbformat": 4,
  "vscode": {
   "interpreter": {
    "hash": "35b3ced1fc95ea1b55924e9fc051407325729e49305d3703dfeb241e94f68593"
   }
  }
 },
 "nbformat": 4,
 "nbformat_minor": 2
}
