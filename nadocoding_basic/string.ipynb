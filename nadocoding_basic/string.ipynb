{
 "cells": [
  {
   "cell_type": "markdown",
   "metadata": {},
   "source": [
    "# 문자열"
   ]
  },
  {
   "cell_type": "markdown",
   "metadata": {},
   "source": [
    "sentence = \"나는 소년입니다\"\n",
    "sentence2 = '나는 소년입니다'\n",
    "print(sentence)\n",
    "print(sentence2)\n",
    "\n",
    "sentence3 = \"\"\"\n",
    "나는 소년이고,\n",
    "파이썬은 쉬워요\n",
    "\"\"\"\n",
    "\n",
    "print(sentence3)"
   ]
  },
  {
   "cell_type": "markdown",
   "metadata": {},
   "source": [
    "## 슬라이싱.. 이거 어렵다 이제부터\n",
    "\n",
    "> 필요한 정보만 뽑아서 가져오고싶다!"
   ]
  },
  {
   "cell_type": "code",
   "execution_count": 19,
   "metadata": {},
   "outputs": [
    {
     "name": "stdout",
     "output_type": "stream",
     "text": [
      "성별 : 1\n",
      "연도 : 89\n",
      "  월 : 11\n",
      "  일 : 05\n",
      "생년월일 : 891105\n",
      "생년월일 : 891105\n",
      "뒤 7자리 : 1051530\n",
      "뒤 7자리 : 1051530\n",
      "뒤 7자리 : 1051530\n"
     ]
    }
   ],
   "source": [
    "jumin = \"891105-1051530\"\n",
    "\n",
    "print(\"성별 : \" + jumin[7]) # 성별 정보는 7번째 위치에 있음\n",
    "print(\"연도 : \" + jumin[0:2])\n",
    "print(\"  월 : \" + jumin[2:4])\n",
    "print(\"  일 : \" + jumin[4:6])\n",
    "\n",
    "print(\"생년월일 : \" + jumin[0:6])\n",
    "print(\"생년월일 : \" + jumin[:6]) # 처음부터 6 직전까지 가져와 달라!\n",
    "\n",
    "print(\"뒤 7자리 : \" + jumin[7:14])\n",
    "print(\"뒤 7자리 : \" + jumin[7:]) # 뒤를 생략해도 된다\n",
    "print(\"뒤 7자리 : \" + jumin[-7:])\n",
    "\n"
   ]
  },
  {
   "cell_type": "code",
   "execution_count": 34,
   "metadata": {},
   "outputs": [
    {
     "name": "stdout",
     "output_type": "stream",
     "text": [
      "python is amazing\n",
      "PYTHON IS AMAZING\n",
      "True\n",
      "17\n",
      "java is Amazing\n",
      "5\n",
      "15\n",
      "-1\n"
     ]
    }
   ],
   "source": [
    "python = \"Python is Amazing\"\n",
    "\n",
    "print(python.lower())\n",
    "print(python.upper())\n",
    "print(python[0].isupper())\n",
    "print(len(python))\n",
    "\n",
    "print(python.replace(\"Python\", \"java\"))\n",
    "\n",
    "index = python.index(\"n\")\n",
    "print(index)\n",
    "\n",
    "index = python.index(\"n\", index + 1)\n",
    "print(index)\n",
    "\n",
    "print(python.find(\"java\"))      # 원하는 값이 없을 경우에 -1 리턴\n",
    "# print(python.index(\"java\"))   # 이건 그냥 에러가 리턴됨 ... \n",
    "\n",
    "print(python.count(\"n\"))"
   ]
  }
 ],
 "metadata": {
  "kernelspec": {
   "display_name": "Python 3.11.3 64-bit",
   "language": "python",
   "name": "python3"
  },
  "language_info": {
   "codemirror_mode": {
    "name": "ipython",
    "version": 3
   },
   "file_extension": ".py",
   "mimetype": "text/x-python",
   "name": "python",
   "nbconvert_exporter": "python",
   "pygments_lexer": "ipython3",
   "version": "3.11.3"
  },
  "orig_nbformat": 4,
  "vscode": {
   "interpreter": {
    "hash": "35b3ced1fc95ea1b55924e9fc051407325729e49305d3703dfeb241e94f68593"
   }
  }
 },
 "nbformat": 4,
 "nbformat_minor": 2
}
