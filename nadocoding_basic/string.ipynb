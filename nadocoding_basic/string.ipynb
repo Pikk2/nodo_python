{
 "cells": [
  {
   "cell_type": "markdown",
   "metadata": {},
   "source": [
    "# 문자열"
   ]
  },
  {
   "cell_type": "code",
   "execution_count": 3,
   "metadata": {},
   "outputs": [
    {
     "name": "stdout",
     "output_type": "stream",
     "text": [
      "나는 소년입니다\n",
      "나는 소년입니다\n",
      "\n",
      "나는 소년이고,\n",
      "파이썬은 쉬워요\n",
      "\n"
     ]
    }
   ],
   "source": [
    "sentence = \"나는 소년입니다\"\n",
    "sentence2 = '나는 소년입니다'\n",
    "print(sentence)\n",
    "print(sentence2)\n",
    "\n",
    "sentence3 = \"\"\"\n",
    "나는 소년이고,\n",
    "파이썬은 쉬워요\n",
    "\"\"\"\n",
    "\n",
    "print(sentence3)"
   ]
  },
  {
   "cell_type": "markdown",
   "metadata": {},
   "source": [
    "## 슬라이싱.. 이거 어렵다 이제부터\n",
    "\n",
    "> 필요한 정보만 뽑아서 가져오고싶다!"
   ]
  },
  {
   "cell_type": "code",
   "execution_count": 19,
   "metadata": {},
   "outputs": [
    {
     "name": "stdout",
     "output_type": "stream",
     "text": [
      "성별 : 1\n",
      "연도 : 89\n",
      "  월 : 11\n",
      "  일 : 05\n",
      "생년월일 : 891105\n",
      "생년월일 : 891105\n",
      "뒤 7자리 : 1051530\n",
      "뒤 7자리 : 1051530\n",
      "뒤 7자리 : 1051530\n"
     ]
    }
   ],
   "source": [
    "jumin = \"891105-1051530\"\n",
    "\n",
    "print(\"성별 : \" + jumin[7]) # 성별 정보는 7번째 위치에 있음\n",
    "print(\"연도 : \" + jumin[0:2])\n",
    "print(\"  월 : \" + jumin[2:4])\n",
    "print(\"  일 : \" + jumin[4:6])\n",
    "\n",
    "print(\"생년월일 : \" + jumin[0:6])\n",
    "print(\"생년월일 : \" + jumin[:6]) # 처음부터 6 직전까지 가져와 달라!\n",
    "\n",
    "print(\"뒤 7자리 : \" + jumin[7:14])\n",
    "print(\"뒤 7자리 : \" + jumin[7:]) # 뒤를 생략해도 된다\n",
    "print(\"뒤 7자리 : \" + jumin[-7:])\n",
    "\n"
   ]
  },
  {
   "cell_type": "code",
   "execution_count": 34,
   "metadata": {},
   "outputs": [
    {
     "name": "stdout",
     "output_type": "stream",
     "text": [
      "python is amazing\n",
      "PYTHON IS AMAZING\n",
      "True\n",
      "17\n",
      "java is Amazing\n",
      "5\n",
      "15\n",
      "-1\n"
     ]
    }
   ],
   "source": [
    "python = \"Python is Amazing\"\n",
    "\n",
    "print(python.lower())\n",
    "print(python.upper())\n",
    "print(python[0].isupper())\n",
    "print(len(python))\n",
    "\n",
    "print(python.replace(\"Python\", \"java\"))\n",
    "\n",
    "index = python.index(\"n\")\n",
    "print(index)\n",
    "\n",
    "index = python.index(\"n\", index + 1)\n",
    "print(index)\n",
    "\n",
    "print(python.find(\"java\"))      # 원하는 값이 없을 경우에 -1 리턴\n",
    "# print(python.index(\"java\"))   # 이건 그냥 에러가 리턴됨 ... \n",
    "\n",
    "print(python.count(\"n\"))"
   ]
  },
  {
   "cell_type": "markdown",
   "metadata": {},
   "source": [
    "## 문자열 포맷\n",
    "### 네 가지 방법이 있음"
   ]
  },
  {
   "cell_type": "code",
   "execution_count": 20,
   "metadata": {},
   "outputs": [
    {
     "name": "stdout",
     "output_type": "stream",
     "text": [
      "나는 20살입니다. \n",
      "나는 유미를 좋아해요. \n",
      "나는 20살입니다 \n",
      "나는 빨강색과 파랑색을 좋아해요 \n",
      "----------------------------------------------------------------\n",
      "나는 20살입니다 \n",
      "나는 파란색과 빨간색을 좋아해요 \n",
      "나는 파란색과 빨간색을 좋아해요 \n",
      "나는 빨간색과 파란색을 좋아해요 \n",
      "----------------------------------------------------------------\n",
      "나는 20살이며, 빨강색을 좋아해요\n",
      "나는 20살이며, 빨강색을 좋아해요\n",
      "----------------------------------------------------------------\n",
      "나는 20살이며, 파란색을 좋아해요\n"
     ]
    }
   ],
   "source": [
    "# 방법 1\n",
    "print(\"나는 %d살입니다. \" % 20)\n",
    "print(\"나는 %s를 좋아해요. \" % \"유미\")\n",
    "print(\"나는 %s살입니다 \" % 20)\n",
    "print(\"나는 %s색과 %s색을 좋아해요 \" %(\"빨강\", \"파랑\"))\n",
    "\n",
    "print(\"----------------------------------------------------------------\")\n",
    "# 방법 2\n",
    "print(\"나는 {}살입니다 \".format(20))\n",
    "print(\"나는 {}색과 {}색을 좋아해요 \".format(\"파란\", \"빨간\"))\n",
    "print(\"나는 {0}색과 {1}색을 좋아해요 \".format(\"파란\", \"빨간\"))\n",
    "print(\"나는 {1}색과 {0}색을 좋아해요 \".format(\"파란\", \"빨간\"))\n",
    "\n",
    "print(\"----------------------------------------------------------------\")\n",
    "# 방법 3\n",
    "print(\"나는 {age}살이며, {color}색을 좋아해요\".format(age = 20, color=\"빨강\"))\n",
    "print(\"나는 {age}살이며, {color}색을 좋아해요\".format(color=\"빨강\", age = 20))\n",
    "\n",
    "print(\"----------------------------------------------------------------\")\n",
    "# 방법 4\n",
    "age = 20\n",
    "color = \"파란\"\n",
    "\n",
    "print(f\"나는 {age}살이며, {color}색을 좋아해요\")"
   ]
  },
  {
   "cell_type": "markdown",
   "metadata": {},
   "source": [
    "## 탈출 문자"
   ]
  },
  {
   "cell_type": "code",
   "execution_count": 25,
   "metadata": {},
   "outputs": [
    {
     "name": "stdout",
     "output_type": "stream",
     "text": [
      "백문이 불여일견 \n",
      "백견이 불여일타\n",
      "저는 '나도코딩' 입니다\n",
      "저는 \"나도코딩\" 입니다\n",
      "PineApple\n"
     ]
    }
   ],
   "source": [
    "print(\"백문이 불여일견 \\n백견이 불여일타\")\n",
    "\n",
    "print(\"저는 '나도코딩' 입니다\")\n",
    "print(\"저는 \\\"나도코딩\\\" 입니다\")   # \\\" 입력하면 됨\n",
    "\n",
    "print(\"Red Apple\\rPine\")"
   ]
  },
  {
   "cell_type": "markdown",
   "metadata": {},
   "source": [
    "### Quiz ) 사이트별로 비밀번호를 만들어주는 프로그램을 작성하시오\n",
    "\n",
    "#### 예) http://naver.com\n",
    "#### 규칙1) : http:// 부분은 제외 ==> naver.com\n",
    "#### 규칙2) : 처음 만나는 점(.) 이후 부분은 제외 => naver\n",
    "#### 규칙3) : 남은 글자 중 처음 세 자리 + 글자 개수 + 글자 내 'e' 개수 + \"!\" 로 구성\n",
    "####                      (nav)            (5)           (1)              (!)\n",
    "####  생성된 비밀번호 : nav51!"
   ]
  },
  {
   "cell_type": "code",
   "execution_count": 31,
   "metadata": {},
   "outputs": [
    {
     "name": "stdout",
     "output_type": "stream",
     "text": [
      "Generated password: nav51!\n"
     ]
    }
   ],
   "source": [
    "def generate_password(url):\n",
    "    # Remove \"http://\" if present\n",
    "    if url.startswith(\"http://\"):\n",
    "        url = url[7:]\n",
    "\n",
    "    # Extract the domain name before the first dot\n",
    "    domain = url.split(\".\")[0]\n",
    "\n",
    "    # Extract the first three letters of the domain name\n",
    "    first_three_letters = domain[:3]\n",
    "\n",
    "    # Calculate the number of letters in the domain\n",
    "    num_letters = len(domain)\n",
    "\n",
    "    # Calculate the number of 'e' characters in the domain\n",
    "    num_e = domain.count('e')\n",
    "\n",
    "    # Generate the password using the rules\n",
    "    password = f\"{first_three_letters}{num_letters}{num_e}!\"\n",
    "    return password\n",
    "\n",
    "# Example usage\n",
    "site_url = \"http://naver.com\"\n",
    "generated_password = generate_password(site_url)\n",
    "print(\"Generated password:\", generated_password)"
   ]
  },
  {
   "cell_type": "code",
   "execution_count": 35,
   "metadata": {},
   "outputs": [
    {
     "name": "stdout",
     "output_type": "stream",
     "text": [
      "naver.com\n"
     ]
    }
   ],
   "source": [
    "url = \"http://naver.com\"\n",
    "\n",
    "my_str = url.replace(\"http://\", \"\")\n",
    "# print(my_str)\n",
    "\n",
    "my_str = my_str[:my_str.index(\".\")]"
   ]
  }
 ],
 "metadata": {
  "kernelspec": {
   "display_name": "Python 3.11.3 64-bit",
   "language": "python",
   "name": "python3"
  },
  "language_info": {
   "codemirror_mode": {
    "name": "ipython",
    "version": 3
   },
   "file_extension": ".py",
   "mimetype": "text/x-python",
   "name": "python",
   "nbconvert_exporter": "python",
   "pygments_lexer": "ipython3",
   "version": "3.11.4"
  },
  "orig_nbformat": 4,
  "vscode": {
   "interpreter": {
    "hash": "35b3ced1fc95ea1b55924e9fc051407325729e49305d3703dfeb241e94f68593"
   }
  }
 },
 "nbformat": 4,
 "nbformat_minor": 2
}
