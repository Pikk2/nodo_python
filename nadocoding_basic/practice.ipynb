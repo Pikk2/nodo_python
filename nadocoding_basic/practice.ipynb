{
 "cells": [
  {
   "cell_type": "markdown",
   "metadata": {},
   "source": [
    "# 파이썬 기본 문법\n",
    "\n",
    "## 자료형"
   ]
  },
  {
   "cell_type": "code",
   "execution_count": null,
   "metadata": {},
   "outputs": [],
   "source": [
    "print(5)\n",
    "print(-15)\n",
    "print(3.14)\n",
    "print(5+3)\n",
    "print(5*3)"
   ]
  },
  {
   "cell_type": "markdown",
   "metadata": {},
   "source": [
    "## 문자열 자료형"
   ]
  },
  {
   "cell_type": "code",
   "execution_count": null,
   "metadata": {},
   "outputs": [],
   "source": [
    "print(\"풍선\")\n",
    "print('GOD')\n",
    "print(\"ㅋㅋㅋㅋㅋㅋㅋㅋㅋㅋㅋㅋㅋㅋㅋㅋㅋㅋㅋㅋㅋㅋ\")"
   ]
  },
  {
   "cell_type": "markdown",
   "metadata": {},
   "source": [
    "## Boolean 자료형"
   ]
  },
  {
   "cell_type": "code",
   "execution_count": null,
   "metadata": {},
   "outputs": [],
   "source": [
    "print(5>10)\n",
    "print(10>5)\n",
    "print(True)\n",
    "print(False)\n",
    "print(not True)"
   ]
  },
  {
   "cell_type": "markdown",
   "metadata": {},
   "source": [
    "## 변수"
   ]
  },
  {
   "cell_type": "code",
   "execution_count": 15,
   "metadata": {},
   "outputs": [
    {
     "name": "stdout",
     "output_type": "stream",
     "text": [
      "우리집 강아지 이름은 연탄이에요\n",
      "연탄이는 어른일까요? True\n"
     ]
    }
   ],
   "source": [
    "animal = \"강아지\"\n",
    "name = \"연탄이\"\n",
    "age = 4\n",
    "hobby = \"산책\"\n",
    "is_adult = age >=3\n",
    "\n",
    "print(\"우리집 \" + animal + \" 이름은 연탄이에요\")\n",
    "print(\"연탄이는 어른일까요? True\")"
   ]
  },
  {
   "cell_type": "markdown",
   "metadata": {},
   "source": [
    "### Quiz"
   ]
  },
  {
   "cell_type": "code",
   "execution_count": 17,
   "metadata": {},
   "outputs": [
    {
     "name": "stdout",
     "output_type": "stream",
     "text": [
      "사당행 열차가 들어오고 있습니다\n",
      "동작행 열차가 들어오고 있습니다\n"
     ]
    }
   ],
   "source": [
    "station = \"사당\"\n",
    "print(station + \"행 열차가 들어오고 있습니다\")\n",
    "\n",
    "station = \"동작\"\n",
    "print(station + \"행 열차가 들어오고 있습니다\")"
   ]
  },
  {
   "cell_type": "code",
   "execution_count": 19,
   "metadata": {},
   "outputs": [
    {
     "name": "stdout",
     "output_type": "stream",
     "text": [
      "True\n",
      "False\n",
      "True\n"
     ]
    }
   ],
   "source": [
    "print(1 != 3)\n",
    "print(not (1!=3))\n",
    "\n",
    "print((3>0) and (3<5))"
   ]
  },
  {
   "cell_type": "markdown",
   "metadata": {},
   "source": [
    "## 간단한 수식 및 math library 사용"
   ]
  },
  {
   "cell_type": "code",
   "execution_count": null,
   "metadata": {},
   "outputs": [],
   "source": [
    "print(abs(-5))\n",
    "print(pow(4,2))\n",
    "\n",
    "from math import *\n",
    "\n",
    "print(floor(4.99))\n",
    "print(ceil(3.14))\n",
    "print(sqrt(4))"
   ]
  },
  {
   "cell_type": "markdown",
   "metadata": {},
   "source": [
    "## random 함수"
   ]
  },
  {
   "cell_type": "code",
   "execution_count": null,
   "metadata": {},
   "outputs": [],
   "source": [
    "from random import *\n",
    "\n",
    "print(int(random()*45) + 1)\n",
    "print(int(random()*45) + 1)\n",
    "print(int(random()*45) + 1)\n",
    "print(int(random()*45) + 1)\n",
    "print(int(random()*45) + 1)\n",
    "print(int(random()*45) + 1)"
   ]
  },
  {
   "cell_type": "markdown",
   "metadata": {},
   "source": [
    "## Quiz\n",
    "\n",
    "> 오프라인 스터디 모임 날짜는 매월 x일로 선정되었습니다"
   ]
  },
  {
   "cell_type": "code",
   "execution_count": 88,
   "metadata": {},
   "outputs": [
    {
     "ename": "SyntaxError",
     "evalue": "incomplete input (2151391223.py, line 3)",
     "output_type": "error",
     "traceback": [
      "\u001b[1;36m  Cell \u001b[1;32mIn [88], line 3\u001b[1;36m\u001b[0m\n\u001b[1;33m    print(\"오프라인 스터디 모임 날짜는 매월\" + str(randint(4,28)) + \"일로 선정되었습니다\"\u001b[0m\n\u001b[1;37m                                                                  ^\u001b[0m\n\u001b[1;31mSyntaxError\u001b[0m\u001b[1;31m:\u001b[0m incomplete input\n"
     ]
    }
   ],
   "source": [
    "from random import * \n",
    "\n",
    "print(\"오프라인 스터디 모임 날짜는 매월\" + str(randint(4,28)) + \"일로 선정되었습니다\")"
   ]
  }
 ],
 "metadata": {
  "kernelspec": {
   "display_name": "Python 3.11.3 64-bit",
   "language": "python",
   "name": "python3"
  },
  "language_info": {
   "codemirror_mode": {
    "name": "ipython",
    "version": 3
   },
   "file_extension": ".py",
   "mimetype": "text/x-python",
   "name": "python",
   "nbconvert_exporter": "python",
   "pygments_lexer": "ipython3",
   "version": "3.11.3"
  },
  "orig_nbformat": 4,
  "vscode": {
   "interpreter": {
    "hash": "35b3ced1fc95ea1b55924e9fc051407325729e49305d3703dfeb241e94f68593"
   }
  }
 },
 "nbformat": 4,
 "nbformat_minor": 2
}
