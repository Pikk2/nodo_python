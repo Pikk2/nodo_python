{
 "cells": [
  {
   "cell_type": "markdown",
   "metadata": {},
   "source": [
    "# 클래스(스타크래프트 예제)"
   ]
  },
  {
   "cell_type": "code",
   "execution_count": 63,
   "metadata": {},
   "outputs": [],
   "source": [
    "from random import *"
   ]
  },
  {
   "cell_type": "code",
   "execution_count": 64,
   "metadata": {},
   "outputs": [],
   "source": [
    "# 일반 유닛\n",
    "\n",
    "class Unit:\n",
    "    def __init__(self, name, hp, speed):\n",
    "        self.name = name\n",
    "        self.hp = hp\n",
    "        self.speed = speed\n",
    "        print(\"{0} 유닛이 생성되었습니다\".format(name))\n",
    "\n",
    "    def move(self, location):\n",
    "        print(\"{0} : {1} 방향으로 이동합니다. [속도 : {2}]\"\\\n",
    "        .format(self.name, location, self.speed))\n",
    "\n",
    "    def damaged(self, damage):\n",
    "        print(\"{0} : {1} 데미지를 받았습니다\".format(self.name, damage))\n",
    "        self.hp -= damage\n",
    "        print(\"{0} : 현재 체력은 {1} 입니다\".format(self.name, self.hp))\n",
    "\n",
    "        if self.hp <= 0:\n",
    "            print(\"{0} : 파괴 되었습니다\".format(self.name))"
   ]
  },
  {
   "cell_type": "code",
   "execution_count": 65,
   "metadata": {},
   "outputs": [],
   "source": [
    "# 공격 유닛\n",
    "\n",
    "class AttackUnit(Unit):\n",
    "    def __init__(self, name, hp, speed, damage):\n",
    "        Unit.__init__(self, name, hp, speed)\n",
    "        self.damage = damage\n",
    "\n",
    "    def attack(self, location):\n",
    "        print(\"{0} : {1} 방향으로 적군을 공격 합니다. [공격력 : {2}]\"\\\n",
    "            .format(self.name, location, self.damage))"
   ]
  },
  {
   "cell_type": "code",
   "execution_count": 66,
   "metadata": {},
   "outputs": [],
   "source": [
    "# 마린 클래스\n",
    "\n",
    "class Marine(AttackUnit):\n",
    "    def __init__(self):\n",
    "        AttackUnit.__init__(self, \"마린\", 40, 1, 5)\n",
    "\n",
    "    # 스팀팩 : 일정 시간 동안 공격력 및 이동 속도 증가, 체력 10 감소\n",
    "    def stimpack(self):\n",
    "        if self.hp > 10:\n",
    "            self.hp -= 10\n",
    "            print(\"{0} : 스팀팩을 사용합니다(HP 10 감소)\".format(self.name))\n",
    "        else:\n",
    "            print(\"{0} : 체력이 부족하여 스팀팩 사용하지 않습니다\".format(self.name))"
   ]
  },
  {
   "cell_type": "code",
   "execution_count": 67,
   "metadata": {},
   "outputs": [],
   "source": [
    "# 탱크\n",
    "class Tank(AttackUnit):\n",
    "    # 시즈 모드 : 탱크를 지상에 고정시켜, 더 높은 파워로 공격 가능, 공격력 x 2, 이동 불가\n",
    "    seize_developed = False\n",
    "\n",
    "    def __init__(self):\n",
    "        AttackUnit.__init__(self, \"탱크\", 150, 1, 15)\n",
    "        self.seize_mode = False\n",
    "\n",
    "    def set_seize_mode(self):\n",
    "        if Tank.seize_developed == False:\n",
    "            return\n",
    "        \n",
    "        # 현재 시즈 모드가 아닐 경우\n",
    "        if self.seize_mode == False:\n",
    "            print(\"{0} : 시즈모드로 전환합니다 \".format(self.name))\n",
    "            self.damage *= 2\n",
    "            self.seize_mode = True\n",
    "        # 현재 시즈 모드인 경우\n",
    "        else:\n",
    "            print(\"{0} : 시즈모드를 해제합니다 \".format(self.name))\n",
    "            self.damage /= 2\n",
    "            self.seize_mode = False"
   ]
  },
  {
   "cell_type": "code",
   "execution_count": 68,
   "metadata": {},
   "outputs": [],
   "source": [
    "# 날 수 있는 기능을 가진 클래스\n",
    "class Flyable:\n",
    "    def __init__(self, flying_speed):\n",
    "        self.flying_speed = flying_speed\n",
    "\n",
    "    def fly(self, name, location):\n",
    "        print(\"{0} : {1} 방향으로 날아갑니다 [속도 : {2}\"\\\n",
    "            .format(name, location, self.flying_speed))"
   ]
  },
  {
   "cell_type": "code",
   "execution_count": 69,
   "metadata": {},
   "outputs": [],
   "source": [
    "# 공중 공격 유닛 클래스\n",
    "\n",
    "class FlyableAttackUnit(Flyable, AttackUnit):\n",
    "    def __init__(self, name, hp, damage, flying_speed):\n",
    "        Flyable.__init__(self, flying_speed)\n",
    "        AttackUnit.__init__(self, name, hp, 0, damage)\n",
    "\n",
    "    def move(self, location):\n",
    "        self.fly(self.name, location)"
   ]
  },
  {
   "cell_type": "code",
   "execution_count": 70,
   "metadata": {},
   "outputs": [],
   "source": [
    "# 레이스\n",
    "class Wraith(FlyableAttackUnit):\n",
    "    def __init__(self):\n",
    "        FlyableAttackUnit.__init__(self, \"레이스\", 80, 20, 5)\n",
    "        self.clocked = False\n",
    "\n",
    "    def clocking(self):\n",
    "        if self.clocked == True:    # 클로킹 모드인 경우--> 해제\n",
    "            print(\"{0} : 클로킹 모드 해제\".format(self.name))\n",
    "            self.clocked = False\n",
    "        else:\n",
    "            print(\"{0} : 클로킹 모드 동작\".format(self.name))\n",
    "            self.clocked = True\n"
   ]
  },
  {
   "cell_type": "code",
   "execution_count": 73,
   "metadata": {},
   "outputs": [],
   "source": [
    "# 게임 start, end\n",
    "\n",
    "def game_start():\n",
    "    print(\"[알림] 새로운 게임을 시작합니다\\n\")\n",
    "\n",
    "def game_over():\n",
    "    print(\"\\nPlayer : Good game\")\n",
    "    print(\"[Player] 님이 게임에서 퇴장하셨습니다\")"
   ]
  },
  {
   "cell_type": "code",
   "execution_count": 74,
   "metadata": {},
   "outputs": [
    {
     "name": "stdout",
     "output_type": "stream",
     "text": [
      "[알림] 새로운 게임을 시작합니다\n",
      "\n",
      "마린 유닛이 생성되었습니다\n",
      "마린 유닛이 생성되었습니다\n",
      "마린 유닛이 생성되었습니다\n",
      "탱크 유닛이 생성되었습니다\n",
      "탱크 유닛이 생성되었습니다\n",
      "레이스 유닛이 생성되었습니다\n",
      "[지상 유닛 이동]\n",
      "마린 : 1시 방향으로 이동합니다. [속도 : 1]\n",
      "[지상 유닛 이동]\n",
      "마린 : 1시 방향으로 이동합니다. [속도 : 1]\n",
      "[지상 유닛 이동]\n",
      "마린 : 1시 방향으로 이동합니다. [속도 : 1]\n",
      "[지상 유닛 이동]\n",
      "탱크 : 1시 방향으로 이동합니다. [속도 : 1]\n",
      "[지상 유닛 이동]\n",
      "탱크 : 1시 방향으로 이동합니다. [속도 : 1]\n",
      "[공중 유닛 이동]\n",
      "레이스 : 1시 방향으로 날아갑니다 [속도 : 5\n",
      "[알림] 탱크 시즈모드 개발 완료!\n",
      "마린 : 스팀팩을 사용합니다(HP 10 감소)\n",
      "마린 : 스팀팩을 사용합니다(HP 10 감소)\n",
      "마린 : 스팀팩을 사용합니다(HP 10 감소)\n",
      "탱크 : 시즈모드로 전환합니다 \n",
      "탱크 : 시즈모드로 전환합니다 \n",
      "레이스 : 클로킹 모드 동작\n",
      "마린 : 1시 방향으로 적군을 공격 합니다. [공격력 : 5]\n",
      "마린 : 1시 방향으로 적군을 공격 합니다. [공격력 : 5]\n",
      "마린 : 1시 방향으로 적군을 공격 합니다. [공격력 : 5]\n",
      "탱크 : 1시 방향으로 적군을 공격 합니다. [공격력 : 30]\n",
      "탱크 : 1시 방향으로 적군을 공격 합니다. [공격력 : 30]\n",
      "레이스 : 1시 방향으로 적군을 공격 합니다. [공격력 : 20]\n",
      "마린 : 21 데미지를 받았습니다\n",
      "마린 : 현재 체력은 9 입니다\n",
      "마린 : 10 데미지를 받았습니다\n",
      "마린 : 현재 체력은 20 입니다\n",
      "마린 : 19 데미지를 받았습니다\n",
      "마린 : 현재 체력은 11 입니다\n",
      "탱크 : 8 데미지를 받았습니다\n",
      "탱크 : 현재 체력은 142 입니다\n",
      "탱크 : 18 데미지를 받았습니다\n",
      "탱크 : 현재 체력은 132 입니다\n",
      "레이스 : 17 데미지를 받았습니다\n",
      "레이스 : 현재 체력은 63 입니다\n",
      "\n",
      "Player : Good game\n",
      "[Player] 님이 게임에서 퇴장하셨습니다\n"
     ]
    }
   ],
   "source": [
    "# 게임 시작\n",
    "\n",
    "game_start()\n",
    "\n",
    "# 마린 3기 생성\n",
    "m1 = Marine()\n",
    "m2 = Marine()\n",
    "m3 = Marine()\n",
    "\n",
    "# 탱크 2기 생성\n",
    "t1 = Tank()\n",
    "t2 = Tank()\n",
    "\n",
    "# 레이스 1기 생성\n",
    "w1 = Wraith()\n",
    "\n",
    "# 유닛 일괄 관리\n",
    "attack_units = []\n",
    "attack_units.append(m1)\n",
    "attack_units.append(m2)\n",
    "attack_units.append(m3)\n",
    "attack_units.append(t1)\n",
    "attack_units.append(t2)\n",
    "attack_units.append(w1)\n",
    "\n",
    "# 특정 방향 이동 (전군 이동)\n",
    "for unit in attack_units:\n",
    "    unit.move(\"1시\")\n",
    "\n",
    "# 탱크 시즈 모드 개발\n",
    "Tank.seize_developed = True\n",
    "print(\"[알림] 탱크 시즈모드 개발 완료!\")\n",
    "\n",
    "# 공격 모드 준비(마린 : 스팀팩, 탱크 : 시즈모드, 레이스 : 클로킹)\n",
    "for unit in attack_units:\n",
    "    if isinstance(unit, Marine):\n",
    "        unit.stimpack()\n",
    "    elif isinstance(unit, Tank):\n",
    "        unit.set_seize_mode()\n",
    "    elif isinstance(unit, Wraith):\n",
    "        unit.clocking()\n",
    "\n",
    "# 전군 공격\n",
    "for unit in attack_units:\n",
    "    unit.attack(\"1시\")\n",
    "\n",
    "# 전군 피해 받음\n",
    "for unit in attack_units:\n",
    "    unit.damaged(randint(5, 21))\n",
    "\n",
    "game_over()"
   ]
  },
  {
   "cell_type": "code",
   "execution_count": null,
   "metadata": {},
   "outputs": [],
   "source": []
  }
 ],
 "metadata": {
  "kernelspec": {
   "display_name": "Python 3.11.3 64-bit",
   "language": "python",
   "name": "python3"
  },
  "language_info": {
   "codemirror_mode": {
    "name": "ipython",
    "version": 3
   },
   "file_extension": ".py",
   "mimetype": "text/x-python",
   "name": "python",
   "nbconvert_exporter": "python",
   "pygments_lexer": "ipython3",
   "version": "3.11.3"
  },
  "orig_nbformat": 4,
  "vscode": {
   "interpreter": {
    "hash": "35b3ced1fc95ea1b55924e9fc051407325729e49305d3703dfeb241e94f68593"
   }
  }
 },
 "nbformat": 4,
 "nbformat_minor": 2
}
