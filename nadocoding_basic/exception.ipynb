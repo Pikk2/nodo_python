{
 "cells": [
  {
   "cell_type": "markdown",
   "metadata": {},
   "source": [
    "# 예외 처리"
   ]
  },
  {
   "cell_type": "code",
   "execution_count": 4,
   "metadata": {},
   "outputs": [
    {
     "name": "stdout",
     "output_type": "stream",
     "text": [
      "나누기 전용 계산기입니다\n"
     ]
    },
    {
     "ename": "ValueError",
     "evalue": "invalid literal for int() with base 10: '삼'",
     "output_type": "error",
     "traceback": [
      "\u001b[1;31m---------------------------------------------------------------------------\u001b[0m",
      "\u001b[1;31mValueError\u001b[0m                                Traceback (most recent call last)",
      "Cell \u001b[1;32mIn [4], line 4\u001b[0m\n\u001b[0;32m      1\u001b[0m \u001b[39mprint\u001b[39m(\u001b[39m\"\u001b[39m\u001b[39m나누기 전용 계산기입니다\u001b[39m\u001b[39m\"\u001b[39m)\n\u001b[0;32m      3\u001b[0m num1 \u001b[39m=\u001b[39m \u001b[39mint\u001b[39m(\u001b[39minput\u001b[39m(\u001b[39m\"\u001b[39m\u001b[39m첫 번째 숫자를 입력하세요 : \u001b[39m\u001b[39m\"\u001b[39m))\n\u001b[1;32m----> 4\u001b[0m num2 \u001b[39m=\u001b[39m \u001b[39mint\u001b[39;49m(\u001b[39minput\u001b[39;49m(\u001b[39m\"\u001b[39;49m\u001b[39m두 번째 숫자를 입력하세요 : \u001b[39;49m\u001b[39m\"\u001b[39;49m))\n\u001b[0;32m      6\u001b[0m \u001b[39mprint\u001b[39m(\u001b[39m\"\u001b[39m\u001b[39m{0}\u001b[39;00m\u001b[39m / \u001b[39m\u001b[39m{1}\u001b[39;00m\u001b[39m = \u001b[39m\u001b[39m{2}\u001b[39;00m\u001b[39m \u001b[39m\u001b[39m\"\u001b[39m\u001b[39m.\u001b[39mformat(num1, num2, \u001b[39mint\u001b[39m(num1\u001b[39m/\u001b[39mnum2)))\n",
      "\u001b[1;31mValueError\u001b[0m: invalid literal for int() with base 10: '삼'"
     ]
    }
   ],
   "source": [
    "print(\"나누기 전용 계산기입니다\")\n",
    "\n",
    "num1 = int(input(\"첫 번째 숫자를 입력하세요 : \"))\n",
    "num2 = int(input(\"두 번째 숫자를 입력하세요 : \"))\n",
    "\n",
    "print(\"{0} / {1} = {2} \".format(num1, num2, int(num1/num2)))"
   ]
  },
  {
   "cell_type": "code",
   "execution_count": 5,
   "metadata": {},
   "outputs": [
    {
     "name": "stdout",
     "output_type": "stream",
     "text": [
      "나누기 전용 계산기입니다\n",
      "에러가발생했습니다\n"
     ]
    }
   ],
   "source": [
    "try:\n",
    "    print(\"나누기 전용 계산기입니다\")\n",
    "\n",
    "    num1 = int(input(\"첫 번째 숫자를 입력하세요 : \"))\n",
    "    num2 = int(input(\"두 번째 숫자를 입력하세요 : \"))\n",
    "\n",
    "    print(\"{0} / {1} = {2} \".format(num1, num2, int(num1/num2)))\n",
    "except ValueError:\n",
    "    print(\"에러가 발생했습니다\")"
   ]
  },
  {
   "cell_type": "code",
   "execution_count": 6,
   "metadata": {},
   "outputs": [
    {
     "name": "stdout",
     "output_type": "stream",
     "text": [
      "나누기 전용 계산기입니다\n"
     ]
    },
    {
     "ename": "ZeroDivisionError",
     "evalue": "division by zero",
     "output_type": "error",
     "traceback": [
      "\u001b[1;31m---------------------------------------------------------------------------\u001b[0m",
      "\u001b[1;31mZeroDivisionError\u001b[0m                         Traceback (most recent call last)",
      "Cell \u001b[1;32mIn [6], line 7\u001b[0m\n\u001b[0;32m      4\u001b[0m     num1 \u001b[39m=\u001b[39m \u001b[39mint\u001b[39m(\u001b[39minput\u001b[39m(\u001b[39m\"\u001b[39m\u001b[39m첫 번째 숫자를 입력하세요 : \u001b[39m\u001b[39m\"\u001b[39m))\n\u001b[0;32m      5\u001b[0m     num2 \u001b[39m=\u001b[39m \u001b[39mint\u001b[39m(\u001b[39minput\u001b[39m(\u001b[39m\"\u001b[39m\u001b[39m두 번째 숫자를 입력하세요 : \u001b[39m\u001b[39m\"\u001b[39m))\n\u001b[1;32m----> 7\u001b[0m     \u001b[39mprint\u001b[39m(\u001b[39m\"\u001b[39m\u001b[39m{0}\u001b[39;00m\u001b[39m / \u001b[39m\u001b[39m{1}\u001b[39;00m\u001b[39m = \u001b[39m\u001b[39m{2}\u001b[39;00m\u001b[39m \u001b[39m\u001b[39m\"\u001b[39m\u001b[39m.\u001b[39mformat(num1, num2, \u001b[39mint\u001b[39m(num1\u001b[39m/\u001b[39;49mnum2)))\n\u001b[0;32m      8\u001b[0m \u001b[39mexcept\u001b[39;00m \u001b[39mValueError\u001b[39;00m:\n\u001b[0;32m      9\u001b[0m     \u001b[39mprint\u001b[39m(\u001b[39m\"\u001b[39m\u001b[39m에러가 발생했습니다\u001b[39m\u001b[39m\"\u001b[39m)\n",
      "\u001b[1;31mZeroDivisionError\u001b[0m: division by zero"
     ]
    }
   ],
   "source": [
    "try:\n",
    "    print(\"나누기 전용 계산기입니다\")\n",
    "\n",
    "    num1 = int(input(\"첫 번째 숫자를 입력하세요 : \"))\n",
    "    num2 = int(input(\"두 번째 숫자를 입력하세요 : \"))\n",
    "\n",
    "    print(\"{0} / {1} = {2} \".format(num1, num2, int(num1/num2)))\n",
    "except ValueError:\n",
    "    print(\"에러가 발생했습니다\")\n",
    "\n",
    "# 0으로 나누면?"
   ]
  },
  {
   "cell_type": "code",
   "execution_count": 7,
   "metadata": {},
   "outputs": [
    {
     "name": "stdout",
     "output_type": "stream",
     "text": [
      "나누기 전용 계산기입니다\n",
      "division by zero\n"
     ]
    }
   ],
   "source": [
    "try:\n",
    "    print(\"나누기 전용 계산기입니다\")\n",
    "\n",
    "    num1 = int(input(\"첫 번째 숫자를 입력하세요 : \"))\n",
    "    num2 = int(input(\"두 번째 숫자를 입력하세요 : \"))\n",
    "\n",
    "    print(\"{0} / {1} = {2} \".format(num1, num2, int(num1/num2)))\n",
    "except ValueError:\n",
    "    print(\"에러가 발생했습니다\")\n",
    "except ZeroDivisionError as err:\n",
    "    print(err)\n",
    "\n",
    "# 0으로 나누면?"
   ]
  },
  {
   "cell_type": "code",
   "execution_count": 8,
   "metadata": {},
   "outputs": [
    {
     "name": "stdout",
     "output_type": "stream",
     "text": [
      "나누기 전용 계산기입니다\n",
      "3 / 2 = 1.5 \n"
     ]
    }
   ],
   "source": [
    "try:\n",
    "    print(\"나누기 전용 계산기입니다\")\n",
    "    nums = []\n",
    "    nums.append(int(input(\"첫 번째 숫자를 입력하세요 : \")))\n",
    "    nums.append(int(input(\"두 번째 숫자를 입력하세요 : \")))\n",
    "    nums.append(nums[0] / nums[1])\n",
    "\n",
    "    print(\"{0} / {1} = {2} \".format(nums[0], nums[1], nums[2]))\n",
    "except ValueError:\n",
    "    print(\"에러가 발생했습니다\")\n",
    "except ZeroDivisionError as err:\n",
    "    print(err)"
   ]
  },
  {
   "cell_type": "markdown",
   "metadata": {},
   "source": [
    "만약 아래와 같이 코드를 바꾸면??"
   ]
  },
  {
   "cell_type": "code",
   "execution_count": 9,
   "metadata": {},
   "outputs": [
    {
     "name": "stdout",
     "output_type": "stream",
     "text": [
      "나누기 전용 계산기입니다\n"
     ]
    },
    {
     "ename": "IndexError",
     "evalue": "list index out of range",
     "output_type": "error",
     "traceback": [
      "\u001b[1;31m---------------------------------------------------------------------------\u001b[0m",
      "\u001b[1;31mIndexError\u001b[0m                                Traceback (most recent call last)",
      "Cell \u001b[1;32mIn [9], line 8\u001b[0m\n\u001b[0;32m      5\u001b[0m     nums\u001b[39m.\u001b[39mappend(\u001b[39mint\u001b[39m(\u001b[39minput\u001b[39m(\u001b[39m\"\u001b[39m\u001b[39m두 번째 숫자를 입력하세요 : \u001b[39m\u001b[39m\"\u001b[39m)))\n\u001b[0;32m      6\u001b[0m     \u001b[39m# nums.append(nums[0] / nums[1])\u001b[39;00m\n\u001b[1;32m----> 8\u001b[0m     \u001b[39mprint\u001b[39m(\u001b[39m\"\u001b[39m\u001b[39m{0}\u001b[39;00m\u001b[39m / \u001b[39m\u001b[39m{1}\u001b[39;00m\u001b[39m = \u001b[39m\u001b[39m{2}\u001b[39;00m\u001b[39m \u001b[39m\u001b[39m\"\u001b[39m\u001b[39m.\u001b[39mformat(nums[\u001b[39m0\u001b[39m], nums[\u001b[39m1\u001b[39m], nums[\u001b[39m2\u001b[39;49m]))\n\u001b[0;32m      9\u001b[0m \u001b[39mexcept\u001b[39;00m \u001b[39mValueError\u001b[39;00m:\n\u001b[0;32m     10\u001b[0m     \u001b[39mprint\u001b[39m(\u001b[39m\"\u001b[39m\u001b[39m에러가 발생했습니다\u001b[39m\u001b[39m\"\u001b[39m)\n",
      "\u001b[1;31mIndexError\u001b[0m: list index out of range"
     ]
    }
   ],
   "source": [
    "try:\n",
    "    print(\"나누기 전용 계산기입니다\")\n",
    "    nums = []\n",
    "    nums.append(int(input(\"첫 번째 숫자를 입력하세요 : \")))\n",
    "    nums.append(int(input(\"두 번째 숫자를 입력하세요 : \")))\n",
    "    # nums.append(nums[0] / nums[1])\n",
    "\n",
    "    print(\"{0} / {1} = {2} \".format(nums[0], nums[1], nums[2]))\n",
    "except ValueError:\n",
    "    print(\"에러가 발생했습니다\")\n",
    "except ZeroDivisionError as err:\n",
    "    print(err)"
   ]
  },
  {
   "cell_type": "code",
   "execution_count": 11,
   "metadata": {},
   "outputs": [
    {
     "name": "stdout",
     "output_type": "stream",
     "text": [
      "나누기 전용 계산기입니다\n",
      "알 수 없는 에러가 발생했습니다!\n",
      "list index out of range\n"
     ]
    }
   ],
   "source": [
    "try:\n",
    "    print(\"나누기 전용 계산기입니다\")\n",
    "    nums = []\n",
    "    nums.append(int(input(\"첫 번째 숫자를 입력하세요 : \")))\n",
    "    nums.append(int(input(\"두 번째 숫자를 입력하세요 : \")))\n",
    "    # nums.append(nums[0] / nums[1])\n",
    "\n",
    "    print(\"{0} / {1} = {2} \".format(nums[0], nums[1], nums[2]))\n",
    "except ValueError:\n",
    "    print(\"에러가 발생했습니다\")\n",
    "except ZeroDivisionError as err:\n",
    "    print(err)\n",
    "except Exception as err:\n",
    "    print(\"알 수 없는 에러가 발생했습니다!\")\n",
    "    print(err)"
   ]
  },
  {
   "cell_type": "markdown",
   "metadata": {},
   "source": [
    "## 에러 발생시키기 "
   ]
  },
  {
   "cell_type": "code",
   "execution_count": 12,
   "metadata": {},
   "outputs": [
    {
     "name": "stdout",
     "output_type": "stream",
     "text": [
      "한 자리 숫자 나누기 전용 계산기 입니다\n",
      "잘못된 값을 입력했습니다, 한 자리 숫자만 입력하세요\n"
     ]
    }
   ],
   "source": [
    "try:\n",
    "    print(\"한 자리 숫자 나누기 전용 계산기 입니다\")\n",
    "    num1 = int(input(\"첫 번째 숫자를 입력 : \"))\n",
    "    num2 = int(input(\"두 번째 숫자를 입력 : \"))\n",
    "\n",
    "    if num1 >= 10 or num2 >= 10:\n",
    "        raise ValueError\n",
    "    \n",
    "    print(\"{0} / {1} = {2}\".format(num1, num2, (int)(num1/num2)))\n",
    "except ValueError:\n",
    "    print(\"잘못된 값을 입력했습니다, 한 자리 숫자만 입력하세요\")"
   ]
  },
  {
   "cell_type": "markdown",
   "metadata": {},
   "source": [
    "## 사용자 정의 에러"
   ]
  },
  {
   "cell_type": "code",
   "execution_count": 15,
   "metadata": {},
   "outputs": [
    {
     "name": "stdout",
     "output_type": "stream",
     "text": [
      "한 자리 숫자 나누기 전용 계산기 입니다\n",
      "잘못된 값을 입력했습니다, 한 자리 숫자만 입력하세요\n",
      "입력 값 : 10, 5\n"
     ]
    }
   ],
   "source": [
    "class BigNumberError(Exception):\n",
    "    def __init__(self, msg):\n",
    "        self.msg = msg\n",
    "\n",
    "    def __str__(self):\n",
    "        return self.msg\n",
    "\n",
    "try:\n",
    "    print(\"한 자리 숫자 나누기 전용 계산기 입니다\")\n",
    "    num1 = int(input(\"첫 번째 숫자를 입력 : \"))\n",
    "    num2 = int(input(\"두 번째 숫자를 입력 : \"))\n",
    "\n",
    "    if num1 >= 10 or num2 >= 10:\n",
    "        raise BigNumberError(\"입력 값 : {0}, {1}\".format(num1, num2))\n",
    "    \n",
    "    print(\"{0} / {1} = {2}\".format(num1, num2, (int)(num1/num2)))\n",
    "except BigNumberError as err:\n",
    "    print(\"잘못된 값을 입력했습니다, 한 자리 숫자만 입력하세요\")\n",
    "    print(err)"
   ]
  },
  {
   "cell_type": "markdown",
   "metadata": {},
   "source": [
    "## finally"
   ]
  },
  {
   "cell_type": "code",
   "execution_count": 16,
   "metadata": {},
   "outputs": [
    {
     "name": "stdout",
     "output_type": "stream",
     "text": [
      "한 자리 숫자 나누기 전용 계산기 입니다\n",
      "잘못된 값을 입력했습니다, 한 자리 숫자만 입력하세요\n",
      "입력 값 : 10, 23\n",
      "계산기를 이용해 주셔서 감사합니다 ㅎ_ㅎ\n"
     ]
    }
   ],
   "source": [
    "class BigNumberError(Exception):\n",
    "    def __init__(self, msg):\n",
    "        self.msg = msg\n",
    "\n",
    "    def __str__(self):\n",
    "        return self.msg\n",
    "\n",
    "try:\n",
    "    print(\"한 자리 숫자 나누기 전용 계산기 입니다\")\n",
    "    num1 = int(input(\"첫 번째 숫자를 입력 : \"))\n",
    "    num2 = int(input(\"두 번째 숫자를 입력 : \"))\n",
    "\n",
    "    if num1 >= 10 or num2 >= 10:\n",
    "        raise BigNumberError(\"입력 값 : {0}, {1}\".format(num1, num2))\n",
    "    \n",
    "    print(\"{0} / {1} = {2}\".format(num1, num2, (int)(num1/num2)))\n",
    "except BigNumberError as err:\n",
    "    print(\"잘못된 값을 입력했습니다, 한 자리 숫자만 입력하세요\")\n",
    "    print(err)\n",
    "\n",
    "finally:\n",
    "    print(\"계산기를 이용해 주셔서 감사합니다 ㅎ_ㅎ\")"
   ]
  },
  {
   "cell_type": "markdown",
   "metadata": {},
   "source": [
    "## Quiz\n",
    "\n",
    "동네에 항상 대기 손님이 있는 맛있는 치킨집이 있습니다.\n",
    "대기 손님의 치킨 요리 시간을 줄이고자 자동 주문 시스템을 제작\n",
    "시스템 코드를 확인하고, 적절한 예외처리 구문을 넣으시오\n",
    "\n",
    "조건 1 : 1보다 작거나 숫자가 아닌 입력값이 들어올 때는 valueError로 처리\n",
    "         출력 메세지 : \"잘못된 값을 입력하였습니다\"\n",
    "조건 2 : 대기 손님이 주문할 수 있는 치킨의 총 값은 10마리로 한정\n",
    "         치킨 소진시 사용자 정의 에러 (SoldOutError) 발생시키고, 프로그램 종료\n",
    "         출력 메세지 : \"재고가 소진되어 더 이상 주문을 받지 않습니다.\""
   ]
  },
  {
   "cell_type": "code",
   "execution_count": 2,
   "metadata": {},
   "outputs": [
    {
     "name": "stdout",
     "output_type": "stream",
     "text": [
      "[남은 치킨 : 10]\n",
      "[대기번호 1] 5 마리 주문이 완료되었습니다\n",
      "[남은 치킨 : 5]\n",
      "[대기번호 2] 3 마리 주문이 완료되었습니다\n",
      "[남은 치킨 : 2]\n",
      "잘못된 값을 입력하셨습니다\n",
      "[남은 치킨 : 2]\n",
      "잘못된 값을 입력하셨습니다\n",
      "[남은 치킨 : 2]\n",
      "[대기번호 3] 2 마리 주문이 완료되었습니다\n",
      "재고가 소진되어 더 이상 주문을 받지 않습니다\n"
     ]
    }
   ],
   "source": [
    "class SoldOutError(Exception):\n",
    "    def __init__(self, msg):\n",
    "        self.msg = msg\n",
    "\n",
    "    def __str__(self):\n",
    "        return self.msg\n",
    "\n",
    "chicken = 10\n",
    "\n",
    "waiting = 1 # 홀 안에는 현재 만석, 대기번호 1번부터 시작 \n",
    "\n",
    "while(True):\n",
    "    try:\n",
    "        print(\"[남은 치킨 : {0}]\".format(chicken))\n",
    "        order = int(input(\"치킨 몇 마리 주문 하시겠습니까?\"))\n",
    "\n",
    "        if order <= 0 or type(order) != int:\n",
    "            raise ValueError\n",
    "\n",
    "        if order > chicken: # 남은 치킨보다 주문량이 많을 때 \n",
    "            print(\"재고가 부족합니다\")\n",
    "        else:\n",
    "            print(\"[대기번호 {0}] {1} 마리 주문이 완료되었습니다\".format(waiting, order))\n",
    "            waiting += 1\n",
    "            chicken -= order\n",
    "\n",
    "        if chicken <= 0:\n",
    "            raise SoldOutError(\"재고가 소진되어 더 이상 주문을 받지 않습니다\")\n",
    "            break\n",
    "\n",
    "    except SoldOutError as err:\n",
    "        print(err)\n",
    "        break\n",
    "\n",
    "    except ValueError:\n",
    "        print(\"잘못된 값을 입력하셨습니다\")\n",
    "\n"
   ]
  }
 ],
 "metadata": {
  "kernelspec": {
   "display_name": "Python 3.11.3 64-bit",
   "language": "python",
   "name": "python3"
  },
  "language_info": {
   "codemirror_mode": {
    "name": "ipython",
    "version": 3
   },
   "file_extension": ".py",
   "mimetype": "text/x-python",
   "name": "python",
   "nbconvert_exporter": "python",
   "pygments_lexer": "ipython3",
   "version": "3.11.3"
  },
  "orig_nbformat": 4,
  "vscode": {
   "interpreter": {
    "hash": "35b3ced1fc95ea1b55924e9fc051407325729e49305d3703dfeb241e94f68593"
   }
  }
 },
 "nbformat": 4,
 "nbformat_minor": 2
}
