{
 "cells": [
  {
   "cell_type": "markdown",
   "metadata": {},
   "source": [
    "# if문"
   ]
  },
  {
   "cell_type": "code",
   "execution_count": 3,
   "metadata": {},
   "outputs": [
    {
     "name": "stdout",
     "output_type": "stream",
     "text": [
      "우산 챙기셈\n"
     ]
    }
   ],
   "source": [
    "weather = input(\"오늘 날씨는? \")\n",
    "\n",
    "if weather == \"비\" or weather == \"눈\":\n",
    "    print(\"우산 챙기셈\")\n",
    "elif weather == \"미세먼지\":\n",
    "    print(\"마스크 챙기셈\")\n",
    "else:\n",
    "    print(\"준비물 없어도 됨 ㅎㅎ\")\n",
    "\n"
   ]
  },
  {
   "cell_type": "markdown",
   "metadata": {},
   "source": [
    "# 반복문 (for)"
   ]
  },
  {
   "cell_type": "code",
   "execution_count": 8,
   "metadata": {},
   "outputs": [
    {
     "name": "stdout",
     "output_type": "stream",
     "text": [
      "대기번호 : 1\n",
      "대기번호 : 2\n",
      "대기번호 : 3\n",
      "대기번호 : 4\n",
      "대기번호 : 5\n",
      "아이언맨, 커피가 준비되었습니다. \n",
      "토르, 커피가 준비되었습니다. \n",
      "아이린, 커피가 준비되었습니다. \n"
     ]
    }
   ],
   "source": [
    "# for waiting_no in [0,1,2,3,4]:\n",
    "#     print(\"대기번호 : {0}\".format(waiting_no))\n",
    "\n",
    "for waiting_no in range(1, 6):\n",
    "    print(\"대기번호 : {0}\".format(waiting_no))\n",
    "\n",
    "\n",
    "starbucks = [\"아이언맨\", \"토르\", \"아이린\"]\n",
    "\n",
    "for customer in starbucks:\n",
    "    print(\"{0}, 커피가 준비되었습니다. \".format(customer))"
   ]
  },
  {
   "cell_type": "markdown",
   "metadata": {},
   "source": [
    "# while"
   ]
  },
  {
   "cell_type": "code",
   "execution_count": 1,
   "metadata": {},
   "outputs": [
    {
     "name": "stdout",
     "output_type": "stream",
     "text": [
      "아이린, 커피가 준비 되었습니다. 5번 남았어요\n",
      "아이린, 커피가 준비 되었습니다. 4번 남았어요\n",
      "아이린, 커피가 준비 되었습니다. 3번 남았어요\n",
      "아이린, 커피가 준비 되었습니다. 2번 남았어요\n",
      "아이린, 커피가 준비 되었습니다. 1번 남았어요\n",
      "커피는 폐기 처분 되었습니다\n"
     ]
    }
   ],
   "source": [
    "customer = \"아이린\"\n",
    "index = 5\n",
    "\n",
    "while(index >= 1):\n",
    "    print(\"{0}, 커피가 준비 되었습니다. {1}번 남았어요\".format(customer, index))\n",
    "    index -=1\n",
    "\n",
    "    if index == 0:\n",
    "        print(\"커피는 폐기 처분 되었습니다\")"
   ]
  },
  {
   "cell_type": "code",
   "execution_count": 2,
   "metadata": {},
   "outputs": [
    {
     "name": "stdout",
     "output_type": "stream",
     "text": [
      "아이언맨, 커피가 준비 되었습니다. 호출 1 회 \n",
      "아이언맨, 커피가 준비 되었습니다. 호출 2 회 \n",
      "아이언맨, 커피가 준비 되었습니다. 호출 3 회 \n",
      "아이언맨, 커피가 준비 되었습니다. 호출 4 회 \n"
     ]
    }
   ],
   "source": [
    "customer = \"아이언맨\"\n",
    "\n",
    "index = 1\n",
    "while True:\n",
    "    print(\"{0}, 커피가 준비 되었습니다. 호출 {1} 회 \".format(customer, index))\n",
    "    index += 1\n",
    "    if index == 5:\n",
    "        break\n",
    "\n",
    "# 무한루프임 ㅡㅡ"
   ]
  },
  {
   "cell_type": "code",
   "execution_count": 3,
   "metadata": {},
   "outputs": [
    {
     "name": "stdout",
     "output_type": "stream",
     "text": [
      "토르, 커피가 준비 되었습니다.\n",
      "토르, 커피가 준비 되었습니다.\n",
      "토르, 커피가 준비 되었습니다.\n"
     ]
    }
   ],
   "source": [
    "customer = \"토르\"\n",
    "person = \"unknown\"\n",
    "\n",
    "while person != customer:\n",
    "    print(\"{0}, 커피가 준비 되었습니다.\".format(customer))\n",
    "    person = input(\"이름이 어떻게 되세요? \")"
   ]
  },
  {
   "cell_type": "markdown",
   "metadata": {},
   "source": [
    "# continue, break;"
   ]
  },
  {
   "cell_type": "code",
   "execution_count": 5,
   "metadata": {},
   "outputs": [
    {
     "name": "stdout",
     "output_type": "stream",
     "text": [
      "1, 책을 읽어봐! \n",
      "3, 책을 읽어봐! \n",
      "4, 책을 읽어봐! \n",
      "6, 책을 읽어봐! \n",
      "오늘 수업 여기까지임.. \n"
     ]
    }
   ],
   "source": [
    "absent = [2, 5] # 결석\n",
    "no_book = [7]\n",
    "\n",
    "for student in range(1, 11):\n",
    "    if student in absent:\n",
    "        continue\n",
    "    elif student in no_book:\n",
    "        print(\"오늘 수업 여기까지임.. \")\n",
    "        break;      # 바로 반복문 탈출함 \n",
    "    print(\"{0}, 책을 읽어봐! \".format(student))\n",
    "\n"
   ]
  },
  {
   "cell_type": "markdown",
   "metadata": {},
   "source": [
    "# 한줄 for문"
   ]
  },
  {
   "cell_type": "code",
   "execution_count": 9,
   "metadata": {},
   "outputs": [
    {
     "ename": "SyntaxError",
     "evalue": "incomplete input (4194207692.py, line 17)",
     "output_type": "error",
     "traceback": [
      "\u001b[1;36m  Cell \u001b[1;32mIn [9], line 17\u001b[1;36m\u001b[0m\n\u001b[1;33m    students = [i.upper() for i in students\u001b[0m\n\u001b[1;37m                                           ^\u001b[0m\n\u001b[1;31mSyntaxError\u001b[0m\u001b[1;31m:\u001b[0m incomplete input\n"
     ]
    }
   ],
   "source": [
    "# 출석 번호가 1,2,3,4, 앞에 100을 붙이기로 함.. -> 101, 102, 103, 104\n",
    "\n",
    "student = [1,2,3,4,5]\n",
    "print(student)\n",
    "\n",
    "students = [i+100 for i in student]\n",
    "print(students)\n",
    "\n",
    "\n",
    "# 학생 이름을 길이로 변환\n",
    "students = [\"Iron man\", \"Thor\", \"Irene\"]\n",
    "students = [len(i) for i in students]\n",
    "print(students)\n",
    "\n",
    "# 학생 이름을 대문자로 변환\n",
    "students = [\"Iron man\", \"Thor\", \"Irene\"]\n",
    "students = [i.upper() for i in students]\n",
    "print(students)"
   ]
  }
 ],
 "metadata": {
  "kernelspec": {
   "display_name": "Python 3.11.3 64-bit",
   "language": "python",
   "name": "python3"
  },
  "language_info": {
   "codemirror_mode": {
    "name": "ipython",
    "version": 3
   },
   "file_extension": ".py",
   "mimetype": "text/x-python",
   "name": "python",
   "nbconvert_exporter": "python",
   "pygments_lexer": "ipython3",
   "version": "3.11.3"
  },
  "orig_nbformat": 4,
  "vscode": {
   "interpreter": {
    "hash": "35b3ced1fc95ea1b55924e9fc051407325729e49305d3703dfeb241e94f68593"
   }
  }
 },
 "nbformat": 4,
 "nbformat_minor": 2
}
